{
 "cells": [
  {
   "cell_type": "code",
   "execution_count": 1,
   "metadata": {},
   "outputs": [],
   "source": [
    "from flask import Flask, render_template, request,jsonify\n",
    "from werkzeug import secure_filename\n",
    "import sys\n",
    "import os\n",
    "from Emotions import Mood\n",
    "app = Flask(__name__, template_folder='templates1')\n",
    "os.makedirs(os.path.join(app.instance_path, 'htmlfi'), exist_ok=True)"
   ]
  },
  {
   "cell_type": "code",
   "execution_count": 2,
   "metadata": {},
   "outputs": [],
   "source": [
    "@app.route('/')\n",
    "def index():\n",
    "    return render_template('demo2.html')\n",
    "\n",
    "@app.route('/uploader', methods = ['GET', 'POST'])\n",
    "def upload_file():\n",
    "    print(\"Hello\")\n",
    "    b=[1,2,3]\n",
    "    if request.method == 'POST':\n",
    "        f = request.files['file']\n",
    "        f.save(os.path.join(app.instance_path, 'htmlfi', secure_filename(f.filename)))\n",
    "    \n",
    "    mood1,data = Mood.detect()\n",
    "    \n",
    "    return render_template('test2.html',mood1=mood1,data=data)"
   ]
  },
  {
   "cell_type": "code",
   "execution_count": null,
   "metadata": {},
   "outputs": [
    {
     "name": "stderr",
     "output_type": "stream",
     "text": [
      " * Running on http://127.0.0.1:5000/ (Press CTRL+C to quit)\n",
      "127.0.0.1 - - [27/Aug/2020 15:26:51] \"\u001b[37mGET / HTTP/1.1\u001b[0m\" 200 -\n",
      "127.0.0.1 - - [27/Aug/2020 15:26:52] \"\u001b[37mGET /static/styles/demo.css HTTP/1.1\u001b[0m\" 200 -\n",
      "127.0.0.1 - - [27/Aug/2020 15:26:52] \"\u001b[37mGET /static/blackpanther.jpg HTTP/1.1\u001b[0m\" 200 -\n",
      "127.0.0.1 - - [27/Aug/2020 15:26:53] \"\u001b[37mGET /static/ss2.jpg HTTP/1.1\u001b[0m\" 200 -\n",
      "127.0.0.1 - - [27/Aug/2020 15:26:53] \"\u001b[37mGET /static/ss3.jpg HTTP/1.1\u001b[0m\" 200 -\n",
      "127.0.0.1 - - [27/Aug/2020 15:26:53] \"\u001b[37mGET /static/happy.png HTTP/1.1\u001b[0m\" 200 -\n",
      "127.0.0.1 - - [27/Aug/2020 15:26:53] \"\u001b[37mGET /static/sad.png HTTP/1.1\u001b[0m\" 200 -\n",
      "127.0.0.1 - - [27/Aug/2020 15:26:53] \"\u001b[37mGET /static/fear.png HTTP/1.1\u001b[0m\" 200 -\n",
      "127.0.0.1 - - [27/Aug/2020 15:26:54] \"\u001b[37mGET /static/drama.jpg HTTP/1.1\u001b[0m\" 200 -\n",
      "127.0.0.1 - - [27/Aug/2020 15:26:54] \"\u001b[37mGET /static/drama2.jpg HTTP/1.1\u001b[0m\" 200 -\n",
      "127.0.0.1 - - [27/Aug/2020 15:26:54] \"\u001b[37mGET /static/drama3.jpg HTTP/1.1\u001b[0m\" 200 -\n",
      "127.0.0.1 - - [27/Aug/2020 15:26:54] \"\u001b[37mGET /static/drama4.jpg HTTP/1.1\u001b[0m\" 200 -\n",
      "127.0.0.1 - - [27/Aug/2020 15:26:55] \"\u001b[37mGET /static/ro1.jpeg HTTP/1.1\u001b[0m\" 200 -\n",
      "127.0.0.1 - - [27/Aug/2020 15:26:55] \"\u001b[37mGET /static/ro2.jpg HTTP/1.1\u001b[0m\" 200 -\n",
      "127.0.0.1 - - [27/Aug/2020 15:26:55] \"\u001b[37mGET /static/ro4.webp HTTP/1.1\u001b[0m\" 200 -\n",
      "127.0.0.1 - - [27/Aug/2020 15:26:55] \"\u001b[37mGET /static/ro3.png HTTP/1.1\u001b[0m\" 200 -\n",
      "127.0.0.1 - - [27/Aug/2020 15:26:55] \"\u001b[37mGET /static/co1.jpeg HTTP/1.1\u001b[0m\" 200 -\n",
      "127.0.0.1 - - [27/Aug/2020 15:26:56] \"\u001b[37mGET /static/co2.jpg HTTP/1.1\u001b[0m\" 200 -\n",
      "127.0.0.1 - - [27/Aug/2020 15:26:56] \"\u001b[37mGET /static/co3.jpg HTTP/1.1\u001b[0m\" 200 -\n",
      "127.0.0.1 - - [27/Aug/2020 15:26:56] \"\u001b[37mGET /static/co4.jpg HTTP/1.1\u001b[0m\" 200 -\n",
      "127.0.0.1 - - [27/Aug/2020 15:26:57] \"\u001b[37mGET /static/a1.jpg HTTP/1.1\u001b[0m\" 200 -\n",
      "127.0.0.1 - - [27/Aug/2020 15:26:57] \"\u001b[37mGET /static/a2.jpg HTTP/1.1\u001b[0m\" 200 -\n",
      "127.0.0.1 - - [27/Aug/2020 15:26:57] \"\u001b[37mGET /static/a3.jpg HTTP/1.1\u001b[0m\" 200 -\n",
      "127.0.0.1 - - [27/Aug/2020 15:26:57] \"\u001b[37mGET /static/a4.jpg HTTP/1.1\u001b[0m\" 200 -\n",
      "127.0.0.1 - - [27/Aug/2020 15:26:58] \"\u001b[37mGET /static/t1.jpg HTTP/1.1\u001b[0m\" 200 -\n",
      "127.0.0.1 - - [27/Aug/2020 15:26:58] \"\u001b[37mGET /static/t2.jpg HTTP/1.1\u001b[0m\" 200 -\n",
      "127.0.0.1 - - [27/Aug/2020 15:26:58] \"\u001b[37mGET /static/t3.jpg HTTP/1.1\u001b[0m\" 200 -\n",
      "127.0.0.1 - - [27/Aug/2020 15:26:59] \"\u001b[37mGET /static/t4.jpg HTTP/1.1\u001b[0m\" 200 -\n",
      "127.0.0.1 - - [27/Aug/2020 15:26:59] \"\u001b[37mGET /static/f1.jpeg HTTP/1.1\u001b[0m\" 200 -\n",
      "127.0.0.1 - - [27/Aug/2020 15:26:59] \"\u001b[37mGET /static/f2.jpg HTTP/1.1\u001b[0m\" 200 -\n",
      "127.0.0.1 - - [27/Aug/2020 15:26:59] \"\u001b[37mGET /static/f3.jpg HTTP/1.1\u001b[0m\" 200 -\n",
      "127.0.0.1 - - [27/Aug/2020 15:27:00] \"\u001b[37mGET /static/f4.jpg HTTP/1.1\u001b[0m\" 200 -\n",
      "127.0.0.1 - - [27/Aug/2020 15:27:01] \"\u001b[37mGET /static/b1.jpg HTTP/1.1\u001b[0m\" 200 -\n",
      "127.0.0.1 - - [27/Aug/2020 15:27:01] \"\u001b[37mGET /static/b2.jpg HTTP/1.1\u001b[0m\" 200 -\n",
      "127.0.0.1 - - [27/Aug/2020 15:27:01] \"\u001b[37mGET /static/b3.jpg HTTP/1.1\u001b[0m\" 200 -\n",
      "127.0.0.1 - - [27/Aug/2020 15:27:02] \"\u001b[37mGET /static/b4.jpg HTTP/1.1\u001b[0m\" 200 -\n",
      "127.0.0.1 - - [27/Aug/2020 15:27:03] \"\u001b[37mGET /static/c1.jpg HTTP/1.1\u001b[0m\" 200 -\n",
      "127.0.0.1 - - [27/Aug/2020 15:27:03] \"\u001b[37mGET /static/c2.jpg HTTP/1.1\u001b[0m\" 200 -\n",
      "127.0.0.1 - - [27/Aug/2020 15:27:04] \"\u001b[37mGET /static/c3.jpg HTTP/1.1\u001b[0m\" 200 -\n",
      "127.0.0.1 - - [27/Aug/2020 15:27:05] \"\u001b[37mGET /static/mov.png HTTP/1.1\u001b[0m\" 200 -\n",
      "127.0.0.1 - - [27/Aug/2020 15:27:05] \"\u001b[37mGET /static/c4.jpg HTTP/1.1\u001b[0m\" 200 -\n",
      "127.0.0.1 - - [27/Aug/2020 15:27:05] \"\u001b[37mGET /static/mum.jpg HTTP/1.1\u001b[0m\" 200 -\n",
      "127.0.0.1 - - [27/Aug/2020 15:27:12] \"\u001b[33mGET /favicon.ico HTTP/1.1\u001b[0m\" 404 -\n"
     ]
    }
   ],
   "source": [
    "app.run()"
   ]
  },
  {
   "cell_type": "code",
   "execution_count": null,
   "metadata": {},
   "outputs": [],
   "source": []
  },
  {
   "cell_type": "code",
   "execution_count": null,
   "metadata": {},
   "outputs": [],
   "source": []
  }
 ],
 "metadata": {
  "kernelspec": {
   "display_name": "Python 3",
   "language": "python",
   "name": "python3"
  },
  "language_info": {
   "codemirror_mode": {
    "name": "ipython",
    "version": 3
   },
   "file_extension": ".py",
   "mimetype": "text/x-python",
   "name": "python",
   "nbconvert_exporter": "python",
   "pygments_lexer": "ipython3",
   "version": "3.6.4"
  }
 },
 "nbformat": 4,
 "nbformat_minor": 2
}
