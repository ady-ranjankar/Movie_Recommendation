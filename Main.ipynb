{
 "cells": [
  {
   "cell_type": "code",
   "execution_count": 1,
   "metadata": {},
   "outputs": [],
   "source": [
    "import numpy as np\n",
    "%matplotlib inline\n",
    "import matplotlib.pyplot as plt\n",
    "from sklearn.linear_model import LogisticRegression\n",
    "from sklearn.model_selection import train_test_split\n",
    "import cv2\n",
    "#globbing utility.\n",
    "import glob\n",
    "import imageio\n",
    "from imutils import face_utils\n",
    "import dlib\n",
    "import math"
   ]
  },
  {
   "cell_type": "code",
   "execution_count": 2,
   "metadata": {},
   "outputs": [],
   "source": [
    "model = LogisticRegression()"
   ]
  },
  {
   "cell_type": "code",
   "execution_count": 3,
   "metadata": {},
   "outputs": [],
   "source": [
    "data1 = np.genfromtxt('X.csv', delimiter=',')\n",
    "data2 = np.genfromtxt('Yt.csv', delimiter=',')"
   ]
  },
  {
   "cell_type": "code",
   "execution_count": 4,
   "metadata": {},
   "outputs": [],
   "source": [
    "X_train, X_test, y_train, y_test = train_test_split(data1,data2, test_size=0.2)"
   ]
  },
  {
   "cell_type": "code",
   "execution_count": 5,
   "metadata": {},
   "outputs": [
    {
     "data": {
      "text/plain": [
       "0.7647058823529411"
      ]
     },
     "execution_count": 5,
     "metadata": {},
     "output_type": "execute_result"
    }
   ],
   "source": [
    "model.fit(X_train, y_train)\n",
    "model.score(X_test, y_test)"
   ]
  },
  {
   "cell_type": "code",
   "execution_count": 6,
   "metadata": {},
   "outputs": [],
   "source": [
    "# initialize dlib's face detector (HOG-based) and then create\n",
    "# the facial landmark predictor\n",
    "p = \"shape_predictor_68_face_landmarks.dat\"\n",
    "detector = dlib.get_frontal_face_detector()\n",
    "predictor = dlib.shape_predictor(p)\n",
    "\n",
    "\n",
    "t=[]\n",
    "file=(\"lol5.jpg\")\n",
    "image = imageio.imread(file)\n",
    "gray = cv2.cvtColor(image, cv2.COLOR_BGR2GRAY)\n",
    "rects = detector(gray, 0)\n",
    "a=[]\n",
    "j=[]\n",
    "for (i, rect) in enumerate(rects):\n",
    "            # determine the facial landmarks for the face region, then\n",
    "            # convert the facial landmark (x, y)-coordinates to a NumPy\n",
    "            # array\n",
    "        shape = predictor(gray, rect)\n",
    "        shape = face_utils.shape_to_np(shape)\n",
    "        a.append(shape)\n",
    "        for (x, y) in shape:\n",
    "            cv2.circle(image, (x, y), 2, (0, 255, 0), -1)\n",
    "\n",
    "        # show the output image with the face detections + facial landmarks\n",
    "cv2.imshow(\"Output\", image)\n",
    "a=np.asarray(a)\n",
    "if(np.shape(a)==(1,68,2)):\n",
    "    a=a.reshape(68,2)\n",
    "    l=0\n",
    "    m=0\n",
    "        #print(a)\n",
    "    for i in range(0,68):\n",
    "        for k in range(0,68):\n",
    "            l=a[i][0]-a[k][0]\n",
    "            l=l*l\n",
    "            m=a[i][1]-a[k][1]\n",
    "            m=m*m\n",
    "            j.append(math.sqrt(m+l))\n",
    "\n",
    "    k = cv2.waitKey(5) & 0xFF\n",
    "    j=np.asarray(j)\n",
    "    t.append(j)\n",
    "else:\n",
    "    print(\"Face Not Detected\")"
   ]
  },
  {
   "cell_type": "code",
   "execution_count": 7,
   "metadata": {},
   "outputs": [],
   "source": [
    "t=np.asarray(t)\n",
    "t.shape\n",
    "test=t.reshape(1,-1)"
   ]
  },
  {
   "cell_type": "code",
   "execution_count": 8,
   "metadata": {},
   "outputs": [
    {
     "name": "stdout",
     "output_type": "stream",
     "text": [
      "Mood detected is Anger\n"
     ]
    }
   ],
   "source": [
    "mood=[\"Anger\",\"Fear\",\"Sadness\",\"Surprised\",\"Joy\"]\n",
    "m=int(model.predict(test))\n",
    "m=mood[m-1]\n",
    "print(\"Mood detected is\",m)"
   ]
  },
  {
   "cell_type": "code",
   "execution_count": null,
   "metadata": {},
   "outputs": [],
   "source": []
  }
 ],
 "metadata": {
  "kernelspec": {
   "display_name": "Python 3",
   "language": "python",
   "name": "python3"
  },
  "language_info": {
   "codemirror_mode": {
    "name": "ipython",
    "version": 3
   },
   "file_extension": ".py",
   "mimetype": "text/x-python",
   "name": "python",
   "nbconvert_exporter": "python",
   "pygments_lexer": "ipython3",
   "version": "3.6.4"
  }
 },
 "nbformat": 4,
 "nbformat_minor": 2
}
